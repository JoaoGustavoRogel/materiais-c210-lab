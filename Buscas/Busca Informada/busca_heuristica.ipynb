{
  "nbformat": 4,
  "nbformat_minor": 0,
  "metadata": {
    "colab": {
      "name": "Busca Heuristica.ipynb",
      "provenance": []
    },
    "kernelspec": {
      "name": "python3",
      "display_name": "Python 3"
    }
  },
  "cells": [
    {
      "cell_type": "markdown",
      "metadata": {
        "id": "T8Lc7sgveFUT"
      },
      "source": [
        "### Busca Gulosa"
      ]
    },
    {
      "cell_type": "code",
      "metadata": {
        "id": "u4DyZ-_DeEod"
      },
      "source": [
        "import numpy as np\r\n",
        "\r\n",
        "class SlidingPuzzle():\r\n",
        "    def __init__(self, num_blocos):\r\n",
        "        self.num_blocos = num_blocos\r\n",
        "\r\n",
        "    def _encontra_posicao(self, estado, elemento):\r\n",
        "        for i in range(self.num_blocos):\r\n",
        "            for j in range(self.num_blocos):\r\n",
        "                if estado[i, j] == elemento:\r\n",
        "                    return i, j\r\n",
        "        return None, None\r\n",
        "\r\n",
        "    def verifica_estados(self, atual, objetivo):\r\n",
        "        flag = True\r\n",
        "        for i in range(self.num_blocos):\r\n",
        "            if flag == False:\r\n",
        "                break\r\n",
        "\r\n",
        "            for j in range(self.num_blocos):\r\n",
        "                if atual[i, j] != objetivo[i, j]:\r\n",
        "                    flag = False;\r\n",
        "                    break;\r\n",
        "\r\n",
        "        return flag\r\n",
        "\r\n",
        "    def expande_estado(self, atual):\r\n",
        "        novos_estados = []\r\n",
        "        linha, coluna = self._encontra_posicao(atual, 0)\r\n",
        "\r\n",
        "        # Cima\r\n",
        "        if linha > 0:\r\n",
        "            novo_estado = np.copy(atual)\r\n",
        "            nova_linha = linha - 1\r\n",
        "\r\n",
        "            bloco_alvo = novo_estado[nova_linha, coluna]\r\n",
        "            novo_estado[nova_linha, coluna] = 0\r\n",
        "            novo_estado[linha, coluna] = bloco_alvo\r\n",
        "\r\n",
        "            novos_estados.append(novo_estado)\r\n",
        "\r\n",
        "        # Baixo\r\n",
        "        if linha < self.num_blocos - 1:\r\n",
        "            novo_estado = np.copy(atual)\r\n",
        "            nova_linha = linha + 1\r\n",
        "\r\n",
        "            bloco_alvo = novo_estado[nova_linha, coluna]\r\n",
        "            novo_estado[nova_linha, coluna] = 0\r\n",
        "            novo_estado[linha, coluna] = bloco_alvo\r\n",
        "\r\n",
        "            novos_estados.append(novo_estado)\r\n",
        "\r\n",
        "\r\n",
        "        # Esquerda\r\n",
        "        if coluna > 0:\r\n",
        "            novo_estado = np.copy(atual)\r\n",
        "            nova_coluna = coluna - 1\r\n",
        "\r\n",
        "            bloco_alvo = novo_estado[linha, nova_coluna]\r\n",
        "            novo_estado[linha, nova_coluna] = 0\r\n",
        "            novo_estado[linha, coluna] = bloco_alvo\r\n",
        "\r\n",
        "            novos_estados.append(novo_estado)\r\n",
        "\r\n",
        "        # Direita\r\n",
        "        if coluna < self.num_blocos - 1:\r\n",
        "            novo_estado = np.copy(atual)\r\n",
        "            nova_coluna = coluna + 1\r\n",
        "\r\n",
        "            bloco_alvo = novo_estado[linha, nova_coluna]\r\n",
        "            novo_estado[linha, nova_coluna] = 0\r\n",
        "            novo_estado[linha, coluna] = bloco_alvo\r\n",
        "\r\n",
        "            novos_estados.append(novo_estado)\r\n",
        "\r\n",
        "        return novos_estados   \r\n",
        "\r\n",
        "    def heuristica(self, atual, objetivo):\r\n",
        "        # return heuristica"
      ],
      "execution_count": 2,
      "outputs": []
    },
    {
      "cell_type": "markdown",
      "metadata": {
        "id": "rWVWDNlpeTo4"
      },
      "source": [
        "### Busca"
      ]
    },
    {
      "cell_type": "code",
      "metadata": {
        "id": "VXE4M19reUfL"
      },
      "source": [
        "import heapq\r\n",
        "\r\n",
        "class Busca():\r\n",
        "    def __init__(self, problema):\r\n",
        "        self.problema = problema\r\n",
        "\r\n",
        "    def _verifica_visitado(self, estado, estados_visitados):\r\n",
        "        for i in estados_visitados:\r\n",
        "            if self.problema.verifica_estados(i, estado):\r\n",
        "                return True\r\n",
        "        return False\r\n",
        "\r\n",
        "    def busca(self, inicio, fim):\r\n",
        "        p_fila = []\r\n",
        "        heapq.heappush(p_fila, (0, 0, inicio))\r\n",
        "\r\n",
        "        id_estado = 0\r\n",
        "        solucao_encontrada = False\r\n",
        "        estados_visitados = []\r\n",
        "        cont_estados = 0\r\n",
        "\r\n",
        "        while not len(p_fila) == 0:\r\n",
        "            atual = heapq.heappop(p_fila)[2]\r\n",
        "            estados_visitados.append(atual)\r\n",
        "\r\n",
        "            if self.problema.verifica_estados(atual, fim):\r\n",
        "                solucao_encontrada = True\r\n",
        "                break\r\n",
        "            else:\r\n",
        "                cont_estados += 1\r\n",
        "                print(\"Visitando #\", cont_estados)\r\n",
        "                novos_estados = self.problema.expande_estado(atual)\r\n",
        "\r\n",
        "                for i in novos_estados:\r\n",
        "                    if not self._verifica_visitado(i, estados_visitados):\r\n",
        "                        id_estado += 1\r\n",
        "                        prioridade = self.problema.heuristica(i, fim)\r\n",
        "                        \r\n",
        "                        print(i, \"\\n h =\", prioridade)\r\n",
        "                        heapq.heappush(p_fila, (prioridade, id_estado, i))\r\n",
        "        \r\n",
        "        return solucao_encontrada, estados_visitados, cont_estados\r\n"
      ],
      "execution_count": 3,
      "outputs": []
    },
    {
      "cell_type": "markdown",
      "metadata": {
        "id": "3t_2lOTreaof"
      },
      "source": [
        "### Executando"
      ]
    },
    {
      "cell_type": "code",
      "metadata": {
        "colab": {
          "base_uri": "https://localhost:8080/",
          "height": 231
        },
        "id": "W8xGV9WNedC9",
        "outputId": "c17a1b78-d33c-4e2d-de15-85d735f11a19"
      },
      "source": [
        "problema = SlidingPuzzle(3)\r\n",
        "\r\n",
        "start = np.matrix()\r\n",
        "print(start, \"\\n************\\n\")\r\n",
        "\r\n",
        "target = np.matrix()\r\n",
        "print(target, \"\\n************\\n\")\r\n",
        "\r\n",
        "busca = Busca(problema)\r\n",
        "solution, visited, steps = busca.busca(start,target)"
      ],
      "execution_count": 6,
      "outputs": [
        {
          "output_type": "error",
          "ename": "TypeError",
          "evalue": "ignored",
          "traceback": [
            "\u001b[0;31m---------------------------------------------------------------------------\u001b[0m",
            "\u001b[0;31mTypeError\u001b[0m                                 Traceback (most recent call last)",
            "\u001b[0;32m<ipython-input-6-15dd3de8f3f3>\u001b[0m in \u001b[0;36m<module>\u001b[0;34m()\u001b[0m\n\u001b[1;32m      1\u001b[0m \u001b[0mproblema\u001b[0m \u001b[0;34m=\u001b[0m \u001b[0mSlidingPuzzle\u001b[0m\u001b[0;34m(\u001b[0m\u001b[0;36m3\u001b[0m\u001b[0;34m)\u001b[0m\u001b[0;34m\u001b[0m\u001b[0;34m\u001b[0m\u001b[0m\n\u001b[1;32m      2\u001b[0m \u001b[0;34m\u001b[0m\u001b[0m\n\u001b[0;32m----> 3\u001b[0;31m \u001b[0mstart\u001b[0m \u001b[0;34m=\u001b[0m \u001b[0mnp\u001b[0m\u001b[0;34m.\u001b[0m\u001b[0mmatrix\u001b[0m\u001b[0;34m(\u001b[0m\u001b[0;34m)\u001b[0m\u001b[0;34m\u001b[0m\u001b[0;34m\u001b[0m\u001b[0m\n\u001b[0m\u001b[1;32m      4\u001b[0m \u001b[0mprint\u001b[0m\u001b[0;34m(\u001b[0m\u001b[0mstart\u001b[0m\u001b[0;34m,\u001b[0m \u001b[0;34m\"\\n************\\n\"\u001b[0m\u001b[0;34m)\u001b[0m\u001b[0;34m\u001b[0m\u001b[0;34m\u001b[0m\u001b[0m\n\u001b[1;32m      5\u001b[0m \u001b[0;34m\u001b[0m\u001b[0m\n",
            "\u001b[0;31mTypeError\u001b[0m: __new__() missing 1 required positional argument: 'data'"
          ]
        }
      ]
    }
  ]
}