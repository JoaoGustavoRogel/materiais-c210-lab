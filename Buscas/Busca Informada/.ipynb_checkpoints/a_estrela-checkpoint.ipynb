{
 "cells": [
  {
   "cell_type": "markdown",
   "metadata": {
    "id": "6ggOn4tVKG5s"
   },
   "source": [
    "### Grafo"
   ]
  },
  {
   "cell_type": "code",
   "execution_count": null,
   "metadata": {
    "id": "PQHm8V7tKDuc"
   },
   "outputs": [],
   "source": [
    "class Graph:\n",
    "\n",
    "    def __init__(self, graph_dict=None, directed=True):\n",
    "        self.graph_dict = graph_dict or {}\n",
    "        self.directed = directed\n",
    "        if not directed:\n",
    "            self.make_undirected()\n",
    "\n",
    "\n",
    "    def make_undirected(self):\n",
    "        for a in list(self.graph_dict.keys()):\n",
    "            for (b, dist) in self.graph_dict[a].items():\n",
    "                self.graph_dict.setdefault(b, {})[a] = dist\n",
    "\n",
    "    def connect(self, A, B, distance=1):\n",
    "        self.graph_dict.setdefault(A, {})[B] = distance\n",
    "        if not self.directed:\n",
    "            self.graph_dict.setdefault(B, {})[A] = distance\n",
    "\n",
    "    def get(self, a, b=None):\n",
    "        links = self.graph_dict.setdefault(a, {})\n",
    "        if b is None:\n",
    "            return links\n",
    "        else:\n",
    "            return links.get(b)\n",
    "\n",
    "    def nodes(self):\n",
    "        s1 = set([k for k in self.graph_dict.keys()])\n",
    "        s2 = set([k2 for v in self.graph_dict.values() for k2, v2 in v.items()])\n",
    "        nodes = s1.union(s2)\n",
    "        return list(nodes)\n",
    "\n",
    "\n",
    "class Node:\n",
    "    def __init__(self, name:str, parent:str):\n",
    "        self.name = name\n",
    "        self.parent = parent\n",
    "        self.g = 0 # Distance to start node\n",
    "        self.h = 0 # Distance to goal node\n",
    "        self.f = 0 # Total cost    \n",
    "\n",
    "    def __eq__(self, other):\n",
    "        return self.name == other.name\n",
    "    \n",
    "    def __lt__(self, other):\n",
    "         return self.f < other.f\n",
    "    \n",
    "    def __repr__(self):\n",
    "        return ('({0},{1})'.format(self.name, self.f))\n",
    "\n",
    "    def __hash__(self):\n",
    "        return hash(self.name)"
   ]
  },
  {
   "cell_type": "markdown",
   "metadata": {
    "id": "3pbwjQLFOyfo"
   },
   "source": [
    "### A*\n"
   ]
  },
  {
   "cell_type": "code",
   "execution_count": null,
   "metadata": {
    "id": "W1sDSFloO9vg"
   },
   "outputs": [],
   "source": [
    "def busca(grafo, heuristicas, inicio, fim):\n",
    "    start_node = Node(inicio, None)\n",
    "    goal_node = Node(fim, None)\n",
    "\n",
    "    # dist from start to n\n",
    "    g_score = {}\n",
    "    g_score[start_node] = 0\n",
    "\n",
    "    # f = g + h\n",
    "    f_score = {}\n",
    "    f_score[start_node] = 0 + heuristicas[start_node.name]\n",
    "\n",
    "    open_set = []\n",
    "    open_set.append(start_node)\n",
    "\n",
    "    while len(open_set) > 0:\n",
    "        open_set.sort()\n",
    "\n",
    "        current = open_set.pop(0)\n",
    "\n",
    "        if current == goal_node:\n",
    "            path = []\n",
    "            while current != start_node:\n",
    "                path.append(current.name + ': ' + str(current.g))\n",
    "                current = current.parent\n",
    "            path.append(start_node.name + ': ' + str(start_node.g))\n",
    "\n",
    "            return path[::-1]\n",
    "\n",
    "\n",
    "        for key, value in grafo.get(current.name).items():\n",
    "            vizinho = Node(key, current)\n",
    "            tentativa_gscore = g_score.get(current, 999999999999) + value\n",
    "\n",
    "            if tentativa_gscore < g_score.get(vizinho, 999999999999):\n",
    "                g_score[vizinho] = tentativa_gscore\n",
    "                vizinho.g  = tentativa_gscore\n",
    "\n",
    "                if vizinho not in open_set:\n",
    "                    open_set.append(vizinho)\n"
   ]
  },
  {
   "cell_type": "markdown",
   "metadata": {
    "id": "nvq-gl-GVCsV"
   },
   "source": [
    "### Main"
   ]
  },
  {
   "cell_type": "code",
   "execution_count": null,
   "metadata": {
    "colab": {
     "base_uri": "https://localhost:8080/",
     "height": 51
    },
    "id": "ZAW-ssGMVB-E",
    "outputId": "0f0747a4-bfd6-4bdf-c618-82dc86080c3c"
   },
   "outputs": [],
   "source": [
    "graph = Graph()\n",
    "\n",
    "graph.connect('Frankfurt', 'Wurzburg', 111)\n",
    "graph.connect('Frankfurt', 'Mannheim', 85)\n",
    "graph.connect('Wurzburg', 'Nurnberg', 104)\n",
    "graph.connect('Wurzburg', 'Stuttgart', 140)\n",
    "graph.connect('Wurzburg', 'Ulm', 183)\n",
    "graph.connect('Mannheim', 'Nurnberg', 230)\n",
    "graph.connect('Mannheim', 'Karlsruhe', 67)\n",
    "graph.connect('Karlsruhe', 'Basel', 191)\n",
    "graph.connect('Karlsruhe', 'Stuttgart', 64)\n",
    "graph.connect('Nurnberg', 'Ulm', 171)\n",
    "graph.connect('Nurnberg', 'Munchen', 170)\n",
    "graph.connect('Nurnberg', 'Passau', 220)\n",
    "graph.connect('Stuttgart', 'Ulm', 107)\n",
    "graph.connect('Basel', 'Bern', 91)\n",
    "graph.connect('Basel', 'Zurich', 85)\n",
    "graph.connect('Bern', 'Zurich', 120)\n",
    "graph.connect('Zurich', 'Memmingen', 184)\n",
    "graph.connect('Memmingen', 'Ulm', 55)\n",
    "graph.connect('Memmingen', 'Munchen', 115)\n",
    "graph.connect('Munchen', 'Ulm', 123)\n",
    "graph.connect('Munchen', 'Passau', 189)\n",
    "graph.connect('Munchen', 'Rosenheim', 59)\n",
    "graph.connect('Rosenheim', 'Salzburg', 81)\n",
    "graph.connect('Passau', 'Linz', 102)\n",
    "graph.connect('Salzburg', 'Linz', 126)\n",
    "graph.make_undirected()\n",
    "\n",
    "heuristics = {}\n",
    "heuristics['Basel'] = 204\n",
    "heuristics['Bern'] = 247\n",
    "heuristics['Frankfurt'] = 215\n",
    "heuristics['Karlsruhe'] = 137\n",
    "heuristics['Linz'] = 318\n",
    "heuristics['Mannheim'] = 164\n",
    "heuristics['Munchen'] = 120\n",
    "heuristics['Memmingen'] = 47\n",
    "heuristics['Nurnberg'] = 132\n",
    "heuristics['Passau'] = 257\n",
    "heuristics['Rosenheim'] = 168\n",
    "heuristics['Stuttgart'] = 75\n",
    "heuristics['Salzburg'] = 236\n",
    "heuristics['Wurzburg'] = 153\n",
    "heuristics['Zurich'] = 157\n",
    "heuristics['Ulm'] = 0"
   ]
  }
 ],
 "metadata": {
  "colab": {
   "collapsed_sections": [],
   "name": "Busca Informada.ipynb",
   "provenance": []
  },
  "kernelspec": {
   "display_name": "Python 3",
   "language": "python",
   "name": "python3"
  },
  "language_info": {
   "codemirror_mode": {
    "name": "ipython",
    "version": 3
   },
   "file_extension": ".py",
   "mimetype": "text/x-python",
   "name": "python",
   "nbconvert_exporter": "python",
   "pygments_lexer": "ipython3",
   "version": "3.7.6"
  }
 },
 "nbformat": 4,
 "nbformat_minor": 1
}
