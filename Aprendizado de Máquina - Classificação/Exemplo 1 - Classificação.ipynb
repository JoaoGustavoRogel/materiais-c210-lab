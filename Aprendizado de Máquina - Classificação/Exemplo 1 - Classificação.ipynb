{
  "nbformat": 4,
  "nbformat_minor": 0,
  "metadata": {
    "colab": {
      "name": "Aula_Classificação_modelo1.ipynb",
      "provenance": [],
      "collapsed_sections": [
        "DaikLcNEqeWe",
        "8iYF2ZdB616b",
        "AsLgFhVcqk2D",
        "3WdEV-6htqZc"
      ],
      "toc_visible": true
    },
    "kernelspec": {
      "name": "python3",
      "display_name": "Python 3"
    }
  },
  "cells": [
    {
      "cell_type": "markdown",
      "metadata": {
        "id": "FN4IIFJ8tCqi",
        "colab_type": "text"
      },
      "source": [
        "# Primeiro modelo de Classificação\n"
      ]
    },
    {
      "cell_type": "markdown",
      "metadata": {
        "id": "DaikLcNEqeWe",
        "colab_type": "text"
      },
      "source": [
        "## Importação dos dados"
      ]
    },
    {
      "cell_type": "code",
      "metadata": {
        "id": "AvK5d6bqkttS",
        "colab_type": "code",
        "colab": {}
      },
      "source": [
        "import pandas as pd\n",
        "\n",
        "data = pd.read_csv(\"classificacao_animal.csv\")\n",
        "\n",
        "x_data = data[[\"pelo_longo\", \"perna_curta\", \"late\"]]\n",
        "y_data = data[\"animal\"]"
      ],
      "execution_count": 3,
      "outputs": []
    },
    {
      "cell_type": "markdown",
      "metadata": {
        "id": "8iYF2ZdB616b",
        "colab_type": "text"
      },
      "source": [
        "## Breve Análise Exploratória"
      ]
    },
    {
      "cell_type": "code",
      "metadata": {
        "id": "R3zTwSFQ61J9",
        "colab_type": "code",
        "colab": {
          "base_uri": "https://localhost:8080/",
          "height": 281
        },
        "outputId": "03c910c2-9db7-4092-9d53-3d888b945990"
      },
      "source": [
        "import matplotlib.pyplot as plt\n",
        "\n",
        "\n",
        "plt.hist(y_data)\n",
        "plt.title(\"Quantidade de animais\")\n",
        "plt.show()"
      ],
      "execution_count": 4,
      "outputs": [
        {
          "output_type": "display_data",
          "data": {
            "image/png": "[encoded data removed]",
            "text/plain": [
              "<Figure size 432x288 with 1 Axes>"
            ]
          },
          "metadata": {
            "tags": [],
            "needs_background": "light"
          }
        }
      ]
    },
    {
      "cell_type": "markdown",
      "metadata": {
        "id": "AsLgFhVcqk2D",
        "colab_type": "text"
      },
      "source": [
        "## Criação e Treinamento do Modelo"
      ]
    },
    {
      "cell_type": "code",
      "metadata": {
        "id": "qga3zsQRYu67",
        "colab_type": "code",
        "colab": {
          "base_uri": "https://localhost:8080/",
          "height": 85
        },
        "outputId": "75158be4-ff56-498c-b694-926cb4f9e596"
      },
      "source": [
        "from sklearn.svm import LinearSVC\n",
        "# https://scikit-learn.org/stable/modules/generated/sklearn.svm.LinearSVC.html\n",
        "\n",
        "modelo = LinearSVC()\n",
        "modelo.fit(x_data, y_data)"
      ],
      "execution_count": null,
      "outputs": [
        {
          "output_type": "execute_result",
          "data": {
            "text/plain": [
              "LinearSVC(C=1.0, class_weight=None, dual=True, fit_intercept=True,\n",
              "          intercept_scaling=1, loss='squared_hinge', max_iter=1000,\n",
              "          multi_class='ovr', penalty='l2', random_state=None, tol=0.0001,\n",
              "          verbose=0)"
            ]
          },
          "metadata": {
            "tags": []
          },
          "execution_count": 10
        }
      ]
    },
    {
      "cell_type": "markdown",
      "metadata": {
        "id": "3WdEV-6htqZc",
        "colab_type": "text"
      },
      "source": [
        "## Avaliação do Modelo"
      ]
    },
    {
      "cell_type": "code",
      "metadata": {
        "id": "3p26382-twLi",
        "colab_type": "code",
        "colab": {
          "base_uri": "https://localhost:8080/",
          "height": 34
        },
        "outputId": "5a8c551b-3d0f-4894-d9c9-10093f4dafbe"
      },
      "source": [
        "import numpy as np\n",
        "\n",
        "data_teste = [\n",
        "    {\"pelo_longo\": 1, \"perna_curta\": 1, \"late\": 1},\n",
        "    {\"pelo_longo\": 1, \"perna_curta\": 0, \"late\": 1},\n",
        "    {\"pelo_longo\": 0, \"perna_curta\": 1, \"late\": 0},\n",
        "    {\"pelo_longo\": 1, \"perna_curta\": 1, \"late\": 0}\n",
        "]\n",
        "data_teste = pd.DataFrame(data_teste)\n",
        "res_teste = np.array([\"cachorro\", \"cachorro\", \"porco\", \"porco\"])\n",
        "\n",
        "teste_predict = modelo.predict(data_teste)\n",
        "\n",
        "taxa_acerto = (teste_predict == res_teste).sum() / len(data_teste) * 100\n",
        "print(f\"Taxa de acerto: {taxa_acerto}%\")\n"
      ],
      "execution_count": null,
      "outputs": [
        {
          "output_type": "stream",
          "text": [
            "Taxa de acerto: 100.0%\n"
          ],
          "name": "stdout"
        }
      ]
    }
  ]
}