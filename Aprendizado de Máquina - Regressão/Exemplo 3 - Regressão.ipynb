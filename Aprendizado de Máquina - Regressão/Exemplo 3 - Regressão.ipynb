{
  "nbformat": 4,
  "nbformat_minor": 0,
  "metadata": {
    "colab": {
      "name": "Exemplo 3 - Regressão.ipynb",
      "provenance": []
    },
    "kernelspec": {
      "name": "python3",
      "display_name": "Python 3"
    }
  },
  "cells": [
    {
      "cell_type": "markdown",
      "metadata": {
        "id": "U7NoDH4nLKxo"
      },
      "source": [
        "### Leitura dos dados"
      ]
    },
    {
      "cell_type": "code",
      "metadata": {
        "id": "J6mwx2ljKqpA"
      },
      "source": [
        "import pandas as pd"
      ],
      "execution_count": null,
      "outputs": []
    },
    {
      "cell_type": "code",
      "metadata": {
        "id": "LAB_5VLeLN6V"
      },
      "source": [
        "df = pd.read_csv(\"student_scores.csv\")"
      ],
      "execution_count": null,
      "outputs": []
    },
    {
      "cell_type": "markdown",
      "metadata": {
        "id": "f_WKhd-TLWok"
      },
      "source": [
        "### Análise Exploratória"
      ]
    },
    {
      "cell_type": "code",
      "metadata": {
        "colab": {
          "base_uri": "https://localhost:8080/",
          "height": 204
        },
        "id": "ZeWYMvj0LSgp",
        "outputId": "c7215a60-e928-417e-e698-6d9c9d6c6582"
      },
      "source": [
        "df.head()"
      ],
      "execution_count": null,
      "outputs": [
        {
          "output_type": "execute_result",
          "data": {
            "text/html": [
              "<div>\n",
              "<style scoped>\n",
              "    .dataframe tbody tr th:only-of-type {\n",
              "        vertical-align: middle;\n",
              "    }\n",
              "\n",
              "    .dataframe tbody tr th {\n",
              "        vertical-align: top;\n",
              "    }\n",
              "\n",
              "    .dataframe thead th {\n",
              "        text-align: right;\n",
              "    }\n",
              "</style>\n",
              "<table border=\"1\" class=\"dataframe\">\n",
              "  <thead>\n",
              "    <tr style=\"text-align: right;\">\n",
              "      <th></th>\n",
              "      <th>Hours</th>\n",
              "      <th>Scores</th>\n",
              "    </tr>\n",
              "  </thead>\n",
              "  <tbody>\n",
              "    <tr>\n",
              "      <th>0</th>\n",
              "      <td>2.5</td>\n",
              "      <td>21</td>\n",
              "    </tr>\n",
              "    <tr>\n",
              "      <th>1</th>\n",
              "      <td>5.1</td>\n",
              "      <td>47</td>\n",
              "    </tr>\n",
              "    <tr>\n",
              "      <th>2</th>\n",
              "      <td>3.2</td>\n",
              "      <td>27</td>\n",
              "    </tr>\n",
              "    <tr>\n",
              "      <th>3</th>\n",
              "      <td>8.5</td>\n",
              "      <td>75</td>\n",
              "    </tr>\n",
              "    <tr>\n",
              "      <th>4</th>\n",
              "      <td>3.5</td>\n",
              "      <td>30</td>\n",
              "    </tr>\n",
              "  </tbody>\n",
              "</table>\n",
              "</div>"
            ],
            "text/plain": [
              "   Hours  Scores\n",
              "0    2.5      21\n",
              "1    5.1      47\n",
              "2    3.2      27\n",
              "3    8.5      75\n",
              "4    3.5      30"
            ]
          },
          "metadata": {
            "tags": []
          },
          "execution_count": 4
        }
      ]
    },
    {
      "cell_type": "code",
      "metadata": {
        "colab": {
          "base_uri": "https://localhost:8080/"
        },
        "id": "4WFKXDOkLz6y",
        "outputId": "841f8500-4381-4761-c74f-7965bb09d518"
      },
      "source": [
        "df.isna().any()"
      ],
      "execution_count": null,
      "outputs": [
        {
          "output_type": "execute_result",
          "data": {
            "text/plain": [
              "Hours     False\n",
              "Scores    False\n",
              "dtype: bool"
            ]
          },
          "metadata": {
            "tags": []
          },
          "execution_count": 5
        }
      ]
    },
    {
      "cell_type": "code",
      "metadata": {
        "id": "lkbomn9HL2yc"
      },
      "source": [
        "import matplotlib.pyplot as plt"
      ],
      "execution_count": null,
      "outputs": []
    },
    {
      "cell_type": "code",
      "metadata": {
        "colab": {
          "base_uri": "https://localhost:8080/",
          "height": 404
        },
        "id": "9M1ha9hHL5QE",
        "outputId": "d00d3113-4c44-48c6-9f85-6c2cb47c9393"
      },
      "source": [
        "plt.rcParams[\"figure.dpi\"] = 100\r\n",
        "plt.scatter(df[\"Hours\"], df[\"Scores\"], color=\"black\")\r\n",
        "plt.title(\"Hours vs Scores\")\r\n",
        "plt.xlabel(\"Hours Studied\")\r\n",
        "plt.ylabel(\"Scores\")\r\n",
        "plt.show()"
      ],
      "execution_count": null,
      "outputs": [
        {
          "output_type": "display_data",
          "data": {
            "image/png": "[encoded data removed]",
            "text/plain": [
              "<Figure size 600x400 with 1 Axes>"
            ]
          },
          "metadata": {
            "tags": [],
            "needs_background": "light"
          }
        }
      ]
    },
    {
      "cell_type": "code",
      "metadata": {
        "id": "_ASf1u_rMhBu"
      },
      "source": [
        "import numpy as np\r\n",
        "\r\n",
        "data_x = np.array(list(df[\"Hours\"])).reshape(-1, 1)\r\n",
        "data_y = np.array(list(df[\"Scores\"])).reshape(-1, 1)"
      ],
      "execution_count": null,
      "outputs": []
    },
    {
      "cell_type": "markdown",
      "metadata": {
        "id": "5MqYasBBM7vY"
      },
      "source": [
        "### Divisão dos dados para teste e treino"
      ]
    },
    {
      "cell_type": "code",
      "metadata": {
        "id": "W1LQs2RXMpun"
      },
      "source": [
        "from sklearn.model_selection import train_test_split"
      ],
      "execution_count": null,
      "outputs": []
    },
    {
      "cell_type": "code",
      "metadata": {
        "id": "rTnG6I2tNCk1"
      },
      "source": [
        "x_treino, x_teste, y_treino, y_teste = train_test_split(data_x, data_y, test_size=0.2)"
      ],
      "execution_count": null,
      "outputs": []
    },
    {
      "cell_type": "code",
      "metadata": {
        "colab": {
          "base_uri": "https://localhost:8080/"
        },
        "id": "PzXbVDdbNKW8",
        "outputId": "81bc559a-76de-4906-b068-e2dc29af065d"
      },
      "source": [
        "print(\"Treino:\", len(x_treino))\r\n",
        "print(\"Teste:\", len(x_teste))"
      ],
      "execution_count": null,
      "outputs": [
        {
          "output_type": "stream",
          "text": [
            "Treino: 20\n",
            "Teste: 5\n"
          ],
          "name": "stdout"
        }
      ]
    },
    {
      "cell_type": "markdown",
      "metadata": {
        "id": "Gfmg42OANfHW"
      },
      "source": [
        "### Criação do modelo"
      ]
    },
    {
      "cell_type": "code",
      "metadata": {
        "id": "CH6-1viINUBB"
      },
      "source": [
        "from sklearn import linear_model"
      ],
      "execution_count": null,
      "outputs": []
    },
    {
      "cell_type": "code",
      "metadata": {
        "colab": {
          "base_uri": "https://localhost:8080/"
        },
        "id": "MW9Fi038Njg-",
        "outputId": "2eb7ff8a-13aa-498c-ab47-51ba4f2ab87b"
      },
      "source": [
        "modelo = linear_model.LinearRegression()\r\n",
        "modelo.fit(x_treino, y_treino)"
      ],
      "execution_count": null,
      "outputs": [
        {
          "output_type": "execute_result",
          "data": {
            "text/plain": [
              "LinearRegression(copy_X=True, fit_intercept=True, n_jobs=None, normalize=False)"
            ]
          },
          "metadata": {
            "tags": []
          },
          "execution_count": 24
        }
      ]
    },
    {
      "cell_type": "code",
      "metadata": {
        "colab": {
          "base_uri": "https://localhost:8080/"
        },
        "id": "vmRplqmeNpgk",
        "outputId": "6c59246f-030b-48e5-ef28-ecbb0316b0a3"
      },
      "source": [
        "print(\"Coeficiente:\", modelo.coef_)"
      ],
      "execution_count": null,
      "outputs": [
        {
          "output_type": "stream",
          "text": [
            "Coeficiente: [[10.0164198]]\n"
          ],
          "name": "stdout"
        }
      ]
    },
    {
      "cell_type": "markdown",
      "metadata": {
        "id": "I3Km7z4YOEeg"
      },
      "source": [
        "### Predições"
      ]
    },
    {
      "cell_type": "code",
      "metadata": {
        "id": "paRwhARONzc6"
      },
      "source": [
        "y_predicao = modelo.predict(x_teste)"
      ],
      "execution_count": null,
      "outputs": []
    },
    {
      "cell_type": "code",
      "metadata": {
        "colab": {
          "base_uri": "https://localhost:8080/",
          "height": 362
        },
        "id": "Huz3lYn7ONxl",
        "outputId": "88ee7520-5caf-4ccd-cfd5-c03b10997431"
      },
      "source": [
        "# plt.scatter(x_teste, y_predicao, color=\"red\", edgecolors=\"black\")\r\n",
        "plt.scatter(df[\"Hours\"], df[\"Scores\"], color=\"green\")\r\n",
        "plt.plot(x_teste, y_predicao, color=\"red\", linewidth=2)\r\n",
        "plt.show()"
      ],
      "execution_count": null,
      "outputs": [
        {
          "output_type": "display_data",
          "data": {
            "image/png": "[encoded data removed]",
            "text/plain": [
              "<Figure size 600x400 with 1 Axes>"
            ]
          },
          "metadata": {
            "tags": [],
            "needs_background": "light"
          }
        }
      ]
    },
    {
      "cell_type": "markdown",
      "metadata": {
        "id": "hhruwZ_WQvkk"
      },
      "source": [
        "### Métrica de avaliação"
      ]
    },
    {
      "cell_type": "code",
      "metadata": {
        "id": "RJMZeEfhOqaA"
      },
      "source": [
        "from sklearn.metrics import mean_squared_error"
      ],
      "execution_count": null,
      "outputs": []
    },
    {
      "cell_type": "code",
      "metadata": {
        "id": "KkGO_CzuQ0xm"
      },
      "source": [
        "mse = mean_squared_error(y_teste, y_predicao)"
      ],
      "execution_count": null,
      "outputs": []
    },
    {
      "cell_type": "code",
      "metadata": {
        "colab": {
          "base_uri": "https://localhost:8080/"
        },
        "id": "FYGmYvfsQ4VK",
        "outputId": "2258aef6-1308-416e-8213-e98092c910b2"
      },
      "source": [
        "print(\"MSE:\", mse)"
      ],
      "execution_count": null,
      "outputs": [
        {
          "output_type": "stream",
          "text": [
            "MSE: 45.786530454165344\n"
          ],
          "name": "stdout"
        }
      ]
    },
    {
      "cell_type": "markdown",
      "metadata": {
        "id": "_otCgqULRv7z"
      },
      "source": [
        "### Predição do usuário"
      ]
    },
    {
      "cell_type": "code",
      "metadata": {
        "id": "rhBjBdPEQ50q"
      },
      "source": [
        "pergunta = np.array([6, 8]).reshape(-1, 1)\r\n",
        "resposta = modelo.predict(pergunta)"
      ],
      "execution_count": null,
      "outputs": []
    },
    {
      "cell_type": "code",
      "metadata": {
        "colab": {
          "base_uri": "https://localhost:8080/"
        },
        "id": "iYX9oocZSAOt",
        "outputId": "7d487ed4-12ab-4d85-8f02-3fd6e41cb475"
      },
      "source": [
        "for i in range(2):\r\n",
        "    print(f\"Horas estudadas {pergunta[i][0]}, terá uma nota {resposta[i][0]}\")"
      ],
      "execution_count": null,
      "outputs": [
        {
          "output_type": "stream",
          "text": [
            "Horas estudadas 6, terá uma nota 61.568390175486606\n",
            "Horas estudadas 8, terá uma nota 81.60122977456983\n"
          ],
          "name": "stdout"
        }
      ]
    },
    {
      "cell_type": "code",
      "metadata": {
        "id": "s2ik77jMSCdo"
      },
      "source": [
        ""
      ],
      "execution_count": null,
      "outputs": []
    }
  ]
}