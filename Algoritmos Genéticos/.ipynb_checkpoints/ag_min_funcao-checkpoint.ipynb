{
 "cells": [
  {
   "cell_type": "markdown",
   "metadata": {
    "id": "a9TJ-oYTMKJC"
   },
   "source": [
    "## Bitset"
   ]
  },
  {
   "cell_type": "code",
   "execution_count": null,
   "metadata": {
    "id": "YTt2GF-WKWYQ"
   },
   "outputs": [],
   "source": [
    "import numpy as np\n",
    "import random\n",
    "\n",
    "class BitSet:\n",
    "    def __init__(self, size):\n",
    "        self.bits = np.full((1, size), False)\n",
    "\n",
    "    def get(self, index):\n",
    "        return self.bits[0, index]\n",
    "\n",
    "    def set(self, index, value):\n",
    "        self.bits[0, index] = value\n",
    "\n",
    "    def flip(self, index):\n",
    "        self.bits[0, index] = not self.bits[0, index]\n",
    "\n",
    "    def debug(self):\n",
    "        print(self.bits)"
   ]
  },
  {
   "cell_type": "markdown",
   "metadata": {
    "id": "rPNfcN14MqYZ"
   },
   "source": [
    "## Cromossomo"
   ]
  },
  {
   "cell_type": "code",
   "execution_count": null,
   "metadata": {
    "id": "ce3KTDw7MqRA"
   },
   "outputs": [],
   "source": [
    "class Chromossome:\n",
    "    def __init__(self, x = None, y = None):\n",
    "        if x == None:\n",
    "            x = random.randint(-15, 15)\n",
    "\n",
    "        if y == None:\n",
    "            y = random.randint(-15, 15)\n",
    "\n",
    "        self.__genes = Chromossome.get_genotype(x, y)\n",
    "\n",
    "    def get_genes(self):\n",
    "        return self.__genes\n",
    "\n",
    "    def set_genes(self, genes):\n",
    "        self.__genes = genes\n",
    "\n",
    "    def to_string(self):\n",
    "        chr_str = \"G = [\"\n",
    "\n",
    "        for i in range(10):\n",
    "            chr_str += (i == 5 and \" \" or \"\") + (self.__genes.get(i) and \"1\" or \"0\")\n",
    "\n",
    "        x, y = Chromossome.get_fenotype(self.__genes)\n",
    "\n",
    "        chr_str += \"], F = [\" + str(x) + \", \" + str(y) + \"]\"\n",
    "\n",
    "        return chr_str\n",
    "\n",
    "    @staticmethod\n",
    "    def get_genotype(x, y):\n",
    "        bits = BitSet(10)\n",
    "\n",
    "        xy_binary = \"{:05b}\".format(x) + \"{:05b}\".format(y)\n",
    "\n",
    "        for i in range(10):\n",
    "            bits.set(i, xy_binary[i] == '1')\n",
    "\n",
    "        return bits\n",
    "\n",
    "    @staticmethod\n",
    "    def get_fenotype(genes):\n",
    "\n",
    "        # XXXXX YYYYY (5 bits to each variable: 4 for value and 1 for sign pos/neg)\n",
    "        # 01234 56789 (bits are indexed from left to right, adopting little-endian)\n",
    "        # 8421K 8421K (bits on indices 4 and 9 represent the variables sign, i.e.\n",
    "        #              0 represents a positive and 1 represents a negative value;\n",
    "        #              https://en.wikipedia.org/wiki/Sign_bit for more information)\n",
    "\n",
    "        x = (8 * genes.get(0) +\n",
    "            4 * genes.get(1) +\n",
    "            2 * genes.get(2) +\n",
    "            1 * genes.get(3))\n",
    "\n",
    "        if (genes.get(4) == 1):\n",
    "            x *= -1\n",
    "\n",
    "        y = (8 * genes.get(5) +\n",
    "            4 * genes.get(6) +\n",
    "            2 * genes.get(7) +\n",
    "            1 * genes.get(8))\n",
    "\n",
    "        if (genes.get(9) == 1):\n",
    "            y *= -1\n",
    "\n",
    "        return x, y"
   ]
  },
  {
   "cell_type": "markdown",
   "metadata": {
    "id": "r9EyqkQ-N2I6"
   },
   "source": [
    "## Problema"
   ]
  },
  {
   "cell_type": "code",
   "execution_count": null,
   "metadata": {
    "id": "cGVAO7g_N4wY"
   },
   "outputs": [],
   "source": [
    "class Problem:\n",
    "\n",
    "    @staticmethod\n",
    "    def f(x, y):\n",
    "        return (x + 2*y - 7)**2 + (2*x + y - 5)**2\n",
    "\n",
    "    @staticmethod\n",
    "    def f_chromossome(chromossome):\n",
    "        x, y = Chromossome.get_fenotype(chromossome.get_genes())\n",
    "        return Problem.f(x, y)\n",
    "\n",
    "    @staticmethod\n",
    "    def g(x, y):\n",
    "        return 1 / (1 + Problem.f(x, y))\n",
    "\n",
    "    @staticmethod\n",
    "    def g_chromossome(chromossome):\n",
    "        x, y = Chromossome.get_fenotype(chromossome.get_genes())\n",
    "        return Problem.g(x, y)\n",
    "\n",
    "    @staticmethod\n",
    "    def f_average(population):\n",
    "        avg = 0\n",
    "        for chromossome in population:\n",
    "            avg += Problem.f_chromossome(chromossome)\n",
    "        avg /= len(population)\n",
    "        return avg\n",
    "\n",
    "    @staticmethod\n",
    "    def g_average(population):\n",
    "        avg = 0\n",
    "        for chromossome in population:\n",
    "            avg += Problem.g_chromossome(chromossome)\n",
    "        avg /= len(population)\n",
    "        return avg\n"
   ]
  },
  {
   "cell_type": "markdown",
   "metadata": {
    "id": "NhRBvN73OMqF"
   },
   "source": [
    "## Utils"
   ]
  },
  {
   "cell_type": "code",
   "execution_count": null,
   "metadata": {
    "id": "Wx88IPUZOLnq"
   },
   "outputs": [],
   "source": [
    "class GeneticUtils:\n",
    "\n",
    "    @staticmethod\n",
    "    def find_best_chromossome(population):\n",
    "        best_chromossome = None\n",
    "\n",
    "        for chromossome in population:\n",
    "            score = Problem.g_chromossome(chromossome)\n",
    "\n",
    "            if best_chromossome is None or score > Problem.g_chromossome(best_chromossome):\n",
    "                best_chromossome = chromossome\n",
    "\n",
    "        return best_chromossome\n",
    "\n",
    "    @staticmethod\n",
    "    def find_worst_chromossome(population):\n",
    "        worst_chromossome = None\n",
    "\n",
    "        for chromossome in population:\n",
    "            score = Problem.g_chromossome(chromossome)\n",
    "\n",
    "            if worst_chromossome is None or score < Problem.g_chromossome(worst_chromossome):\n",
    "                worst_chromossome = chromossome\n",
    "\n",
    "        return worst_chromossome\n",
    "\n",
    "    @staticmethod\n",
    "    def format_chromossome(chromossome):\n",
    "        return f\"{chromossome.to_string()}, Score = {Problem.g_chromossome(chromossome):.3f}\"\n"
   ]
  },
  {
   "cell_type": "markdown",
   "metadata": {
    "id": "pNhk855ENS2T"
   },
   "source": [
    "## Genetic Operations"
   ]
  },
  {
   "cell_type": "code",
   "execution_count": null,
   "metadata": {
    "id": "8V1uDpaeNiZM"
   },
   "outputs": [],
   "source": [
    "class GeneticOperators:\n",
    "\n",
    "    MUTATION_PROBABILITY = 0.05\n",
    "\n",
    "    @staticmethod\n",
    "    def selection(population):\n",
    "        parent1 = random.choice(population)\n",
    "        parent2 = random.choice(population)\n",
    "\n",
    "        while parent1 is parent2:\n",
    "            parent1 = random.choice(population)\n",
    "            parent2 = random.choice(population)\n",
    "\n",
    "        print(f\"1st parent chosen for crossover: {GeneticUtils.format_chromossome(parent1)}\")\n",
    "        print(f\"2nd parent chosen for crossover: {GeneticUtils.format_chromossome(parent2)}\")\n",
    "\n",
    "        return parent1, parent2\n",
    "\n",
    "    @staticmethod\n",
    "    def crossover(population, parent1, parent2):\n",
    "        crossover_point = random.randint(1, 9)\n",
    "        print(f\"Crossover will happen at point {crossover_point}\")\n",
    "\n",
    "        parent1_genes = parent1.get_genes()\n",
    "        parent2_genes = parent2.get_genes()\n",
    "\n",
    "        child1_genes = BitSet(10)\n",
    "        child2_genes = BitSet(10)\n",
    "\n",
    "        for i in range(crossover_point):\n",
    "            child1_genes.set(i, parent1_genes.get(i))\n",
    "            child2_genes.set(i, parent2_genes.get(i))\n",
    "\n",
    "        for i in range(crossover_point, 10):\n",
    "            child1_genes.set(i, parent2_genes.get(i))\n",
    "            child2_genes.set(i, parent1_genes.get(i))\n",
    "\n",
    "        child1 = Chromossome()\n",
    "        child1.set_genes(child1_genes)\n",
    "        print(f\"1st child generated from crossover: {GeneticUtils.format_chromossome(child1)}\")\n",
    "\n",
    "        child2 = Chromossome()\n",
    "        child2.set_genes(child2_genes)\n",
    "        print(f\"2nd child generated from crossover: {GeneticUtils.format_chromossome(child2)}\")\n",
    "\n",
    "        population.append(child1)\n",
    "        population.append(child2)\n",
    "\n",
    "    @staticmethod\n",
    "    def mutation(population):\n",
    "        prob = random.uniform(0, 1)\n",
    "\n",
    "        if prob >= GeneticOperators.MUTATION_PROBABILITY:\n",
    "            return\n",
    "\n",
    "        target = random.choice(population)\n",
    "\n",
    "        mutation_point = random.randint(0, 9)\n",
    "        print(f\"Individual {target.to_string()} will mutate at point {mutation_point}\")\n",
    "\n",
    "        genes = target.get_genes()\n",
    "        genes.flip(mutation_point)\n",
    "\n",
    "        print(f\"Individual {target.to_string()} mutated at point {mutation_point}\")\n",
    "\n",
    "    @staticmethod\n",
    "    def elitism(population):\n",
    "        for _ in range(2):\n",
    "            worst_individual = GeneticUtils.find_worst_chromossome(population)\n",
    "            print(f\"Removing worst individual from population: {GeneticUtils.format_chromossome(worst_individual)}\")\n",
    "            population.remove(worst_individual)\n"
   ]
  },
  {
   "cell_type": "markdown",
   "metadata": {
    "id": "twkd1utmOYuj"
   },
   "source": [
    "## Main"
   ]
  },
  {
   "cell_type": "code",
   "execution_count": null,
   "metadata": {
    "colab": {
     "base_uri": "https://localhost:8080/",
     "height": 1000
    },
    "id": "ofCpsl5oOXCX",
    "outputId": "2a28b7c0-6cdb-4d11-c00d-1e4fc9fdaef7"
   },
   "outputs": [],
   "source": [
    "import matplotlib.pyplot as plt\n",
    "\n",
    "if __name__ == \"__main__\":\n",
    "    population = []\n",
    "    for _ in range(10):\n",
    "        population.append(Chromossome())\n",
    "\n",
    "    generation = 0\n",
    "    population_score = Problem.g_average(population)\n",
    "\n",
    "    generation_plot = []\n",
    "    generation_plot.append(generation)\n",
    "\n",
    "    population_score_plot = []\n",
    "    population_score_plot.append(population_score)\n",
    "\n",
    "    while generation < 50:\n",
    "        parent1, parent2 = GeneticOperators.selection(population)\n",
    "\n",
    "        GeneticOperators.crossover(population, parent1, parent2)\n",
    "        GeneticOperators.mutation(population)\n",
    "        GeneticOperators.elitism(population)\n",
    "\n",
    "        generation += 1\n",
    "        population_score = Problem.g_average(population)\n",
    "\n",
    "        generation_plot.append(generation)\n",
    "        population_score_plot.append(population_score)\n",
    "\n",
    "        print(f\"Generation # {generation} -> Average population score = {population_score:.3f}\\n\")\n",
    "\n",
    "    best_chromossome = GeneticUtils.find_best_chromossome(population)\n",
    "    print(f\"Best individual: {GeneticUtils.format_chromossome(best_chromossome)}\")\n",
    "\n",
    "    plt.gca().set_xlabel('Generation')\n",
    "    plt.gca().set_ylabel('Average fitness')\n",
    "    plt.gca().set_title('Average fitness per generation')\n",
    "    plt.plot(generation_plot, population_score_plot)\n",
    "    plt.show()\n"
   ]
  },
  {
   "cell_type": "code",
   "execution_count": null,
   "metadata": {},
   "outputs": [],
   "source": []
  }
 ],
 "metadata": {
  "colab": {
   "collapsed_sections": [
    "a9TJ-oYTMKJC",
    "rPNfcN14MqYZ",
    "NhRBvN73OMqF",
    "pNhk855ENS2T"
   ],
   "name": "GA OPTIMAL",
   "provenance": []
  },
  "kernelspec": {
   "display_name": "Python 3",
   "language": "python",
   "name": "python3"
  },
  "language_info": {
   "codemirror_mode": {
    "name": "ipython",
    "version": 3
   },
   "file_extension": ".py",
   "mimetype": "text/x-python",
   "name": "python",
   "nbconvert_exporter": "python",
   "pygments_lexer": "ipython3",
   "version": "3.7.6"
  }
 },
 "nbformat": 4,
 "nbformat_minor": 1
}
