{
  "nbformat": 4,
  "nbformat_minor": 0,
  "metadata": {
    "kernelspec": {
      "display_name": "Python 3",
      "language": "python",
      "name": "python3"
    },
    "language_info": {
      "codemirror_mode": {
        "name": "ipython",
        "version": 3
      },
      "file_extension": ".py",
      "mimetype": "text/x-python",
      "name": "python",
      "nbconvert_exporter": "python",
      "pygments_lexer": "ipython3",
      "version": "3.7.7"
    },
    "colab": {
      "name": "example.ipynb",
      "provenance": []
    }
  },
  "cells": [
    {
      "cell_type": "code",
      "metadata": {
        "id": "A-Zq07x6ktXJ"
      },
      "source": [
        "# Import modules\n",
        "import numpy as np\n",
        "import matplotlib.pyplot as plt\n",
        "from IPython.display import Image"
      ],
      "execution_count": null,
      "outputs": []
    },
    {
      "cell_type": "code",
      "metadata": {
        "id": "L8O3UvtUktXO"
      },
      "source": [
        "# Import PySwarms\n",
        "import pyswarms as ps\n",
        "from pyswarms.utils.functions import single_obj as fx"
      ],
      "execution_count": null,
      "outputs": []
    },
    {
      "cell_type": "code",
      "metadata": {
        "id": "5Hab-XaKktXO"
      },
      "source": [
        "# Set-up hyperparameters\n",
        "options = { 'c1': 0.5, 'c2': 0.3, 'w': 0.9 }"
      ],
      "execution_count": null,
      "outputs": []
    },
    {
      "cell_type": "code",
      "metadata": {
        "id": "HAR7QfSIktXP"
      },
      "source": [
        "# Call instance of PSO\n",
        "# https://pyswarms.readthedocs.io/en/latest/features.html#continuous\n",
        "# https://pyswarms.readthedocs.io/en/latest/api/pyswarms.single.html\n",
        "optimizer = ps.single.GlobalBestPSO(n_particles=10, dimensions=2, options=options)"
      ],
      "execution_count": null,
      "outputs": []
    },
    {
      "cell_type": "code",
      "metadata": {
        "id": "kNcSmoHtktXP"
      },
      "source": [
        "# Perform optimization of the sphere function\n",
        "# https://pyswarms.readthedocs.io/en/latest/api/pyswarms.utils.functions.html\n",
        "cost, pos = optimizer.optimize(fx.sphere, iters=100)"
      ],
      "execution_count": null,
      "outputs": []
    },
    {
      "cell_type": "code",
      "metadata": {
        "id": "pGULrXglktXP"
      },
      "source": [
        "# Plot the cost history\n",
        "from pyswarms.utils.plotters import (plot_cost_history, plot_contour, plot_surface)\n",
        "plot_cost_history(cost_history=optimizer.cost_history)\n",
        "plt.show()"
      ],
      "execution_count": null,
      "outputs": []
    },
    {
      "cell_type": "code",
      "metadata": {
        "id": "Lv0okdwUktXP"
      },
      "source": [
        "# Initialize mesher with sphere function\n",
        "from pyswarms.utils.plotters.formatters import Mesher\n",
        "m = Mesher(func=fx.sphere)"
      ],
      "execution_count": null,
      "outputs": []
    },
    {
      "cell_type": "code",
      "metadata": {
        "id": "IMWz9ndlktXQ"
      },
      "source": [
        "# Make animation\n",
        "animation2d = plot_contour(pos_history=optimizer.pos_history,  # Use the cost_history we computed\n",
        "                           mesher=m,                           # Customizations\n",
        "                           mark=(0,0))                         # Mark minima"
      ],
      "execution_count": null,
      "outputs": []
    },
    {
      "cell_type": "code",
      "metadata": {
        "id": "NQ22DCQZktXQ"
      },
      "source": [
        "# Enables us to view it in a Jupyter notebook\n",
        "animation2d.save('plot2d.gif', writer='imagemagick', fps=10)\n",
        "Image(url='plot2d.gif')"
      ],
      "execution_count": null,
      "outputs": []
    },
    {
      "cell_type": "code",
      "metadata": {
        "id": "xFWO4WSaktXQ"
      },
      "source": [
        "# Obtain a position-fitness matrix using the Mesher.compute_history_3d()\n",
        "# method. It requires a cost history obtainable from the optimizer class\n",
        "pos_history_3d = m.compute_history_3d(optimizer.pos_history)"
      ],
      "execution_count": null,
      "outputs": []
    },
    {
      "cell_type": "code",
      "metadata": {
        "id": "lIsSW_GBktXQ"
      },
      "source": [
        "# Make a designer and set the x,y,z limits to (-1,1), (-1,1) and (-0.1,1) respectively\n",
        "from pyswarms.utils.plotters.formatters import Designer\n",
        "d = Designer(limits=[(-1,1), (-1,1), (-0.1,1)], label=['x-axis', 'y-axis', 'z-axis'])"
      ],
      "execution_count": null,
      "outputs": []
    },
    {
      "cell_type": "code",
      "metadata": {
        "scrolled": true,
        "id": "SxXvcEJnktXQ"
      },
      "source": [
        "# Make animation\n",
        "animation3d = plot_surface(pos_history=pos_history_3d, # Use the cost_history we computed\n",
        "                           mesher=m, designer=d,       # Customizations\n",
        "                           mark=(0,0,0))               # Mark minima"
      ],
      "execution_count": null,
      "outputs": []
    },
    {
      "cell_type": "code",
      "metadata": {
        "id": "riXf9eclktXR"
      },
      "source": [
        "# Enables us to view it in a Jupyter notebook\n",
        "animation3d.save('plot3d.gif', writer='imagemagick', fps=10)\n",
        "Image(url='plot3d.gif')"
      ],
      "execution_count": null,
      "outputs": []
    }
  ]
}